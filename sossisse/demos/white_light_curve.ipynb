{
 "cells": [
  {
   "metadata": {},
   "cell_type": "markdown",
   "source": [
    "# White light curve\n",
    "\n",
    "This is breakdown of the SOSSISSE white light curve functionality. \n",
    "\n",
    "It is here an an illustration only.\n",
    "\n",
    "Please use the sosssisse.white_light_curve function for processing data."
   ],
   "id": "5ba4c913b73b5e53"
  },
  {
   "metadata": {},
   "cell_type": "markdown",
   "source": "## Setup of SOSSISSE",
   "id": "88eface7f6e4029f"
  },
  {
   "metadata": {},
   "cell_type": "code",
   "outputs": [],
   "execution_count": null,
   "source": [
    "import sossisse\n",
    "\n",
    "# either define a yaml parameter file and/or define parameters here\n",
    "param_file = 'my_parameters.yaml'\n",
    "\n",
    "pkwargs = dict()\n",
    "# For example to set or override the data directory (SOSSIOPATH) uncomment this line\n",
    "# pkwargs['SOSSIOPATH'] = '/scratch3/jwst/sossisse-data/demo/'\n",
    "\n",
    "# get parameters\n",
    "inst = sossisse.get_parameters(param_file=param_file, **pkwargs)"
   ],
   "id": "d58dabcd71959291"
  },
  {
   "metadata": {},
   "cell_type": "markdown",
   "source": [
    "## White light curve functions\n",
    "\n",
    "The following is a copy and paste of the `sossisse.general.general.white_light_curve` function."
   ],
   "id": "aa828cfa1f8ec30e"
  },
  {
   "metadata": {},
   "cell_type": "code",
   "outputs": [],
   "execution_count": null,
   "source": [
    "# imports\n",
    "import os\n",
    "\n",
    "from sossisse.core import io\n",
    "from sossisse.core import misc\n",
    "from sossisse.general import plots"
   ],
   "id": "16709f84a9dc84e0"
  },
  {
   "metadata": {},
   "cell_type": "markdown",
   "source": "### Pre-amble - setting up variables etc",
   "id": "6c0f1a6596c734c4"
  },
  {
   "metadata": {},
   "cell_type": "code",
   "outputs": [],
   "execution_count": null,
   "source": [
    "# set the function name\n",
    "func_name = 'white_light_curve'\n",
    "# print the splash\n",
    "misc.sossart()\n",
    "# get parameters from instrumental parameters\n",
    "objname = inst.params['OBJECTNAME']\n",
    "# print the white light curve splash\n",
    "print(misc.art('White light curve ' + objname, 'blue', 'CYAN'))\n",
    "# -------------------------------------------------------------------------\n",
    "# load temporary filenames (should be run before science starts)\n",
    "inst.define_filenames()\n",
    "wlc_ltbl_file = inst.get_variable('WLC_LTBL_FILE', func_name)\n",
    "# return if we have the soss_stablity file\n",
    "if os.path.exists(wlc_ltbl_file):\n",
    "    msg = 'File {0} exists we skip white light curve step'\n",
    "    misc.printc(msg.format(wlc_ltbl_file), 'info')"
   ],
   "id": "e698ecedf4c72dc4"
  },
  {
   "metadata": {},
   "cell_type": "markdown",
   "source": "### Load the data",
   "id": "1d1353d8ee10ef14"
  },
  {
   "metadata": {},
   "cell_type": "code",
   "outputs": [],
   "execution_count": null,
   "source": [
    "# load the image, error and data quality\n",
    "cube, err, dq = inst.load_data_with_dq()"
   ],
   "id": "329b4dc14dc20699"
  },
  {
   "metadata": {},
   "cell_type": "markdown",
   "source": "### Remove the background",
   "id": "49b11c535340c708"
  },
  {
   "metadata": {},
   "cell_type": "code",
   "outputs": [],
   "execution_count": null,
   "source": [
    "# remove the background\n",
    "cube, err = inst.remove_background(cube, err, dq)"
   ],
   "id": "2651fdff4748c8d4"
  },
  {
   "metadata": {},
   "cell_type": "markdown",
   "source": "### Patch isolated bad pixels",
   "id": "1d81db87f1bf71f4"
  },
  {
   "metadata": {},
   "cell_type": "code",
   "outputs": [],
   "execution_count": null,
   "source": [
    "# for each slice of the cube, isolated bad pixels are interpolated with the\n",
    "# value of their 4 neighbours.\n",
    "cube = inst.patch_isolated_bads(cube)"
   ],
   "id": "34cfdbf35533de2"
  },
  {
   "metadata": {},
   "cell_type": "markdown",
   "source": "### Get the trace map",
   "id": "c46a21b75684e878"
  },
  {
   "metadata": {},
   "cell_type": "code",
   "outputs": [],
   "execution_count": null,
   "source": [
    "# get the trace map\n",
    "tracemap = inst.get_trace_map()"
   ],
   "id": "5d21da2fcaa7fdeb"
  },
  {
   "metadata": {},
   "cell_type": "markdown",
   "source": "### Clean 1/f noise",
   "id": "c28c1c20af988714"
  },
  {
   "metadata": {},
   "cell_type": "code",
   "source": [
    "# if you want to subtract a higher order polynomial to the 1/f noise, change\n",
    "# the value of fit_order\n",
    "out_c1f = inst.clean_1f(cube, err, tracemap)\n",
    "cube, med, med_diff, transit_invsout, pcas = out_c1f"
   ],
   "id": "8f1eb0c16d15c3e6",
   "outputs": [],
   "execution_count": null
  },
  {
   "metadata": {},
   "cell_type": "markdown",
   "source": "### Recenter the trace position",
   "id": "93f76affa14bfdbd"
  },
  {
   "metadata": {},
   "cell_type": "code",
   "outputs": [],
   "execution_count": null,
   "source": [
    "# recenter the trace position\n",
    "tracemap = inst.recenter_trace_position(tracemap, med)"
   ],
   "id": "31ee9efb34a55db5"
  },
  {
   "metadata": {},
   "cell_type": "markdown",
   "source": "### Rotation/Shift trace correction",
   "id": "eabfd1c006c2210a"
  },
  {
   "metadata": {},
   "cell_type": "code",
   "outputs": [],
   "execution_count": null,
   "source": [
    "# get the gradients\n",
    "dx, dy, rotxy, ddy, med_clean = inst.get_gradients(med)\n",
    "# set up the mask for trace position\n",
    "mask_out = inst.get_mask_trace_pos(med, tracemap)\n",
    "mask_trace_pos, x_order0, y_order0, x_trace_pos, y_trace_pos = mask_out"
   ],
   "id": "f8e4271c21028e67"
  },
  {
   "metadata": {},
   "cell_type": "markdown",
   "source": "",
   "id": "32169eb9a6ddcdbe"
  },
  {
   "metadata": {},
   "cell_type": "markdown",
   "source": "### Linear reconstruction of amplitudes",
   "id": "9e97850246ea0fa6"
  },
  {
   "metadata": {},
   "cell_type": "code",
   "outputs": [],
   "execution_count": null,
   "source": [
    "# setup the linear reconstruction vector based on the input parameters\n",
    "lvector = inst.setup_linear_reconstruction(med, dx, dy, rotxy, ddy,\n",
    "                                           pcas, med_diff)\n",
    "# find the best linear combination of scale/dx/dy/rotation from lvector\n",
    "# amps is a vector with the amplitude of all 4 fitted terms\n",
    "# amps[0] -> amplitude of trace\n",
    "# amps[1] -> dx normalized on reference trace\n",
    "# amps[2] -> dy normalized on reference trace\n",
    "# amps[3] -> rotation (in radians) normalized on reference trace\n",
    "# amps[4] -> 2nd derivative in y [if option activated]\n",
    "# -------------------------------------------------------------------------\n",
    "amp_out = inst.apply_amp_recon(cube, err, med, mask_trace_pos,\n",
    "                               lvector, x_trace_pos, y_trace_pos,\n",
    "                               x_order0, y_order0)\n",
    "# get outputs of apply_amp_recon\n",
    "ltable, lrecon, valid_cube = amp_out"
   ],
   "id": "afcfb39edbe968d6"
  },
  {
   "metadata": {},
   "cell_type": "markdown",
   "source": "### Normalize the trace",
   "id": "28112b4a9af699bd"
  },
  {
   "metadata": {},
   "cell_type": "code",
   "outputs": [],
   "execution_count": null,
   "source": [
    "# normalize the trace but a normalization factor\n",
    "ltable = inst.normalize_sum_trace(ltable)"
   ],
   "id": "325e11c1fe56376b"
  },
  {
   "metadata": {},
   "cell_type": "markdown",
   "source": "### Per pixel baseline correction",
   "id": "62d4aedf7bdff832"
  },
  {
   "metadata": {},
   "cell_type": "code",
   "outputs": [],
   "execution_count": null,
   "source": [
    "# per pixel baseline\n",
    "if inst.params['PER_PIXEL_BASELINE_CORRECTION']:\n",
    "    misc.printc('Performing per-pixel baseline subtraction', 'info')\n",
    "    cube = inst.per_pixel_baseline(cube, valid_cube)"
   ],
   "id": "22f564c8427113aa"
  },
  {
   "metadata": {},
   "cell_type": "markdown",
   "source": "### RMS of baseline",
   "id": "4370ce63b79a4075"
  },
  {
   "metadata": {},
   "cell_type": "code",
   "outputs": [],
   "execution_count": null,
   "source": [
    "# print the rms baseline for all methods\n",
    "for method in inst.get_rms_baseline():\n",
    "    # calculate the rms for this method\n",
    "    rms_method = inst.get_rms_baseline(ltable['amplitude'], method=method)\n",
    "    # print this\n",
    "    msg = '{0}, rms = {1:.1f}ppm'.format(method, rms_method * 1e6)\n",
    "    misc.printc(msg, 'number')"
   ],
   "id": "194339ffdbccab7"
  },
  {
   "metadata": {},
   "cell_type": "markdown",
   "source": "### Get the effective wavelength",
   "id": "9c4c486c14dac9c2"
  },
  {
   "metadata": {},
   "cell_type": "code",
   "outputs": [],
   "execution_count": null,
   "source": [
    "# get the effective wavelength\n",
    "photo_weighted_mean, energy_weighted_mean = inst.get_effective_wavelength()"
   ],
   "id": "3731912325a66a2d"
  },
  {
   "metadata": {},
   "cell_type": "markdown",
   "source": "### Write files + plot + summary html",
   "id": "2771f68eb1495370"
  },
  {
   "metadata": {},
   "cell_type": "code",
   "outputs": [],
   "execution_count": null,
   "source": [
    "# =========================================================================\n",
    "# write files\n",
    "# =========================================================================\n",
    "inst.save_wlc_results(cube, err, lrecon, ltable)\n",
    "# =========================================================================\n",
    "# Plots and Summary HTML\n",
    "# =========================================================================\n",
    "# plot the stability plot\n",
    "plots.plot_stability(inst, ltable)\n",
    "# -------------------------------------------------------------------------\n",
    "# plot the transit plot\n",
    "plots.plot_transit(inst, ltable)\n",
    "# -------------------------------------------------------------------------\n",
    "# write the yaml file to html\n",
    "io.summary_html(inst.params)"
   ],
   "id": "e85f9d9357e82684"
  }
 ],
 "metadata": {
  "kernelspec": {
   "display_name": "Python 3",
   "language": "python",
   "name": "python3"
  },
  "language_info": {
   "codemirror_mode": {
    "name": "ipython",
    "version": 2
   },
   "file_extension": ".py",
   "mimetype": "text/x-python",
   "name": "python",
   "nbconvert_exporter": "python",
   "pygments_lexer": "ipython2",
   "version": "2.7.6"
  }
 },
 "nbformat": 4,
 "nbformat_minor": 5
}
