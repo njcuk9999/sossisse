{
 "cells": [
  {
   "metadata": {},
   "cell_type": "markdown",
   "source": [
    "# Spectral extraction\n",
    "\n",
    "This is breakdown of the SOSSISSE spectral extraction functionality.\n",
    "\n",
    "It is here an an illustration only.\n",
    "\n",
    "Please use the sosssisse.spectral_extraction function for processing data.\n"
   ],
   "id": "ea5eb557ffddb730"
  },
  {
   "metadata": {},
   "cell_type": "markdown",
   "source": "## Setup of SOSSISSE",
   "id": "76a58470fd2bd35e"
  },
  {
   "metadata": {},
   "cell_type": "code",
   "outputs": [],
   "execution_count": null,
   "source": [
    "\n",
    "import sossisse\n",
    "\n",
    "# either define a yaml parameter file and/or define parameters here\n",
    "param_file = 'my_parameters.yaml'\n",
    "\n",
    "pkwargs = dict()\n",
    "# For example to set or override the data directory (SOSSIOPATH) uncomment this line\n",
    "# pkwargs['SOSSIOPATH'] = '/scratch3/jwst/sossisse-data/demo/'\n",
    "\n",
    "# get parameters\n",
    "inst = sossisse.get_parameters(param_file=param_file, **pkwargs)"
   ],
   "id": "d0ac261a236c33e2"
  },
  {
   "metadata": {},
   "cell_type": "markdown",
   "source": [
    "## Spectral extraction functions\n",
    "\n",
    "The following is a copy and paste of the `sossisse.general.general.spectral_extraction` function."
   ],
   "id": "f33a004028001c62"
  },
  {
   "metadata": {},
   "cell_type": "code",
   "outputs": [],
   "execution_count": null,
   "source": [
    "# imports\n",
    "import os\n",
    "\n",
    "import numpy as np\n",
    "\n",
    "from sossisse.core import base\n",
    "from sossisse.core import io\n",
    "from sossisse.core import misc\n",
    "from sossisse.general import plots\n",
    "from sossisse.instruments import Instrument"
   ],
   "id": "989087cded4e75b7"
  },
  {
   "metadata": {},
   "cell_type": "markdown",
   "source": "### Pre-amble - setting up variables, loading data etc",
   "id": "c32e1cda38f5aba3"
  },
  {
   "metadata": {},
   "cell_type": "code",
   "outputs": [],
   "execution_count": null,
   "source": [
    "# set the function name\n",
    "func_name = 'spectral_extraction'\n",
    "# print the splash\n",
    "misc.sossart()\n",
    "# get parameters from instrumental parameters\n",
    "objname = inst.params['OBJECTNAME']\n",
    "# print the white light curve splash\n",
    "print(misc.art('Spectral timeseries ' + objname, 'blue', 'CYAN'))\n",
    "# -------------------------------------------------------------------------\n",
    "# load temporary filenames (should be run before science starts)\n",
    "inst.define_filenames()\n",
    "# load the median image\n",
    "med_file = inst.get_variable('MEDIAN_IMAGE_FILE', func_name)\n",
    "med = io.load_fits(med_file)\n",
    "# get clean median trace for spectrum\n",
    "dx, dy, rotxy, ddy, med_clean = inst.get_gradients(med)\n",
    "# load the residuals\n",
    "res_file = inst.get_variable('WLC_RES_FILE', func_name)\n",
    "residual = io.load_fits(res_file)\n",
    "# load the error file\n",
    "err_file = inst.get_variable('WLC_ERR_FILE', func_name)\n",
    "err = io.load_fits(err_file)\n",
    "# load the residuals\n",
    "recon_file = inst.get_variable('WLC_RECON_FILE', func_name)\n",
    "recon = io.load_fits(recon_file)\n",
    "# load the linear fit table\n",
    "ltable_file = inst.get_variable('WLC_LTBL_FILE', func_name)\n",
    "ltable = io.load_table(ltable_file)"
   ],
   "id": "613f0fbed0a4fc63"
  },
  {
   "metadata": {},
   "cell_type": "markdown",
   "source": "### Looping around trace order",
   "id": "d327a217b30e7679"
  },
  {
   "metadata": {},
   "cell_type": "code",
   "outputs": [],
   "execution_count": null,
   "source": [
    "# -------------------------------------------------------------------------\n",
    "# plot / save storage\n",
    "storage = dict()\n",
    "# -------------------------------------------------------------------------\n",
    "# loop around trace orders\n",
    "for trace_order in inst.params['TRACE_ORDERS']:"
   ],
   "id": "4a94f7e0cb8f4b11"
  },
  {
   "metadata": {},
   "cell_type": "markdown",
   "source": "### per trace setup",
   "id": "46127c6dd167fca8"
  },
  {
   "metadata": {},
   "cell_type": "code",
   "outputs": [],
   "execution_count": null,
   "source": [
    "    # for future reference in the code, we keep track of data size\n",
    "    inst.set_variable('DATA_X_SIZE', med.shape[1], func_name)\n",
    "    inst.set_variable('DATA_Y_SIZE', med.shape[0], func_name)\n",
    "    # get the trace position\n",
    "    posmax, throughput = inst.get_trace_pos(order_num=trace_order)\n",
    "    # get wave grid\n",
    "    wavegrid = inst.get_wavegrid(order_num=trace_order)"
   ],
   "id": "f30db0d3b4bfba7f"
  },
  {
   "metadata": {},
   "cell_type": "markdown",
   "source": "### Create SED",
   "id": "53474fb7073a1db"
  },
  {
   "metadata": {},
   "cell_type": "markdown",
   "source": "### Load / construct model",
   "id": "3ca5db197fdd0d4f"
  },
  {
   "metadata": {},
   "cell_type": "markdown",
   "source": "### Get spectrum from ratio to residuals",
   "id": "c4d45b8cf82f6ff2"
  },
  {
   "metadata": {},
   "cell_type": "markdown",
   "source": "### Remove out-of-transit trend",
   "id": "4eac33954d07b5b3"
  },
  {
   "metadata": {},
   "cell_type": "markdown",
   "source": "### Get the transit depth",
   "id": "3b81fe98c7582c06"
  },
  {
   "metadata": {},
   "cell_type": "markdown",
   "source": "### Fit the in-transit spectrum",
   "id": "5cbe9c308f59ebed"
  },
  {
   "metadata": {},
   "cell_type": "markdown",
   "source": "### Create a binned version of the spectrum",
   "id": "3f17f7bf616824c8"
  },
  {
   "metadata": {},
   "cell_type": "markdown",
   "source": "### Save results for this trace order",
   "id": "7f22d89cf7e37b8a"
  },
  {
   "metadata": {},
   "cell_type": "markdown",
   "source": "### Plot results save in Eureka format and create summary html",
   "id": "d39c638580c2a7d"
  }
 ],
 "metadata": {
  "kernelspec": {
   "display_name": "Python 3",
   "language": "python",
   "name": "python3"
  },
  "language_info": {
   "codemirror_mode": {
    "name": "ipython",
    "version": 2
   },
   "file_extension": ".py",
   "mimetype": "text/x-python",
   "name": "python",
   "nbconvert_exporter": "python",
   "pygments_lexer": "ipython2",
   "version": "2.7.6"
  }
 },
 "nbformat": 4,
 "nbformat_minor": 5
}
