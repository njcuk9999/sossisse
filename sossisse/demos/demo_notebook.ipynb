{
 "cells": [
  {
   "metadata": {},
   "cell_type": "markdown",
   "source": [
    "# Demo Notebook for SOSSISSE\n",
    "\n",
    "This is a demo notebook for the SOSSISSE package. It demonstrates the basic \n",
    "functionality of the package.\n"
   ],
   "id": "106d41684b6cad9"
  },
  {
   "metadata": {},
   "cell_type": "markdown",
   "source": "## Importing the package",
   "id": "86f10854f8294747"
  },
  {
   "metadata": {},
   "cell_type": "code",
   "outputs": [],
   "execution_count": null,
   "source": "import sossisse",
   "id": "94021492af3982d8"
  },
  {
   "metadata": {},
   "cell_type": "markdown",
   "source": [
    "## Define parameters to override\n",
    "\n",
    "You can call a yaml file and/or define all parameters here\n",
    "Its probably best to call a yaml file and then override any parameters here otherwise you have to add a lot of parameters here.\n"
   ],
   "id": "8a1431f8060e4080"
  },
  {
   "metadata": {},
   "cell_type": "code",
   "outputs": [],
   "execution_count": null,
   "source": [
    "# Here I just call the demo.yaml file but any parameter in the yaml file\n",
    "# can be put here\n",
    "param_file = 'demo.yaml'\n",
    "# any other keywords can be put in here\n",
    "pkwargs = dict()\n",
    "# pkwargs['SOSSIOPATH'] = '/path/to/data/demo/'\n",
    "\n",
    "# Note if you do not wish to use the yaml file at all you must add an argument\n",
    "#  below no_yaml=True\n",
    "inst = sossisse.get_parameters(param_file=param_file, **pkwargs)\n",
    "# inst = const_funcs.get_parameters(**kwargs, no_yaml=True)"
   ],
   "id": "90100ea3487881a1"
  },
  {
   "metadata": {},
   "cell_type": "markdown",
   "source": "## Run the white light curve step",
   "id": "1b177bffe79ff750"
  },
  {
   "metadata": {},
   "cell_type": "code",
   "outputs": [],
   "execution_count": null,
   "source": [
    "# If statement can be removed (this just allows you to turn off this step \n",
    "# using the yaml file)\n",
    "if inst.params['RUN.LINEAR_RECON']:\n",
    "    inst = sossisse.linear_recon(inst)"
   ],
   "id": "39ec17aa0c71fb0e"
  },
  {
   "metadata": {},
   "cell_type": "markdown",
   "source": "## Run the spectral extraction step",
   "id": "2161d2e1bbeb6877"
  },
  {
   "metadata": {},
   "cell_type": "code",
   "outputs": [],
   "execution_count": null,
   "source": [
    "# If statement can be removed (this just allows you to turn off this step \n",
    "# using the yaml file)\n",
    "if inst.params['RUN.SPECTRAL_EXTRACTION']:\n",
    "    inst = sossisse.spectral_extraction(inst)\n"
   ],
   "id": "723c19c2a7a9acf8"
  }
 ],
 "metadata": {
  "kernelspec": {
   "display_name": "Python 3",
   "language": "python",
   "name": "python3"
  },
  "language_info": {
   "codemirror_mode": {
    "name": "ipython",
    "version": 2
   },
   "file_extension": ".py",
   "mimetype": "text/x-python",
   "name": "python",
   "nbconvert_exporter": "python",
   "pygments_lexer": "ipython2",
   "version": "2.7.6"
  }
 },
 "nbformat": 4,
 "nbformat_minor": 5
}
